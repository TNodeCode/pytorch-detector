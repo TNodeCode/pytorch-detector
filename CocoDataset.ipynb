{
 "cells": [
  {
   "cell_type": "markdown",
   "id": "5ecb94d9-09fb-410a-b57d-6368ada53271",
   "metadata": {},
   "source": [
    "# COCO Dataset"
   ]
  },
  {
   "cell_type": "code",
   "execution_count": 11,
   "id": "447f7001-ab9b-4fb8-9341-b95e0f3ebdad",
   "metadata": {},
   "outputs": [],
   "source": [
    "import os\n",
    "import torch\n",
    "import torchvision\n",
    "from torchvision.datasets import CocoDetection\n",
    "from torchvision.transforms import ToTensor\n",
    "from torchvision.transforms import v2\n",
    "from PIL import Image\n",
    "\n",
    "import matplotlib.pyplot as plt"
   ]
  },
  {
   "cell_type": "code",
   "execution_count": 34,
   "id": "9921ceaa-ba4c-44d5-90cb-9a3ccf1423c1",
   "metadata": {},
   "outputs": [],
   "source": [
    "class MyCocoDetection(torch.utils.data.Dataset):\n",
    "    \"\"\"`MS Coco Detection <http://mscoco.org/dataset/#detections-challenge2016>`_ Dataset.\n",
    "\n",
    "    Args:\n",
    "        root (string): Root directory where images are downloaded to.\n",
    "        annFile (string): Path to json annotation file.\n",
    "        transform (callable, optional): A function/transform that  takes in an PIL image\n",
    "            and returns a transformed version. E.g, ``transforms.ToTensor``\n",
    "        target_transform (callable, optional): A function/transform that takes in the\n",
    "            target and transforms it.\n",
    "    \"\"\"\n",
    "\n",
    "    def __init__(self, root, annFile, transform=None, target_transform=None):\n",
    "        from pycocotools.coco import COCO\n",
    "        self.root = root\n",
    "        self.coco = COCO(annFile)\n",
    "        self.ids = list(self.coco.imgs.keys())\n",
    "        self.transform = transform\n",
    "        self.target_transform = target_transform\n",
    "\n",
    "    def __getitem__(self, index):\n",
    "        \"\"\"\n",
    "        Args:\n",
    "            index (int): Index\n",
    "\n",
    "        Returns:\n",
    "            tuple: Tuple (image, target). target is the object returned by ``coco.loadAnns``.\n",
    "        \"\"\"\n",
    "        coco = self.coco\n",
    "        img_id = self.ids[index]\n",
    "        ann_ids = coco.getAnnIds(imgIds=img_id)\n",
    "        target = coco.loadAnns(ann_ids)\n",
    "\n",
    "        path = coco.loadImgs(img_id)[0]['file_name']\n",
    "\n",
    "        img = Image.open(os.path.join(self.root, path)).convert('RGB')\n",
    "        if self.transform is not None:\n",
    "            img = self.transform(img)\n",
    "\n",
    "        if self.target_transform is not None:\n",
    "            target = self.target_transform(target)\n",
    "\n",
    "        return img, target\n",
    "\n",
    "\n",
    "    def __len__(self):\n",
    "        return len(self.ids)\n",
    "\n",
    "    def __repr__(self):\n",
    "        fmt_str = 'Dataset ' + self.__class__.__name__ + '\\n'\n",
    "        fmt_str += '    Number of datapoints: {}\\n'.format(self.__len__())\n",
    "        fmt_str += '    Root Location: {}\\n'.format(self.root)\n",
    "        tmp = '    Transforms (if any): '\n",
    "        fmt_str += '{0}{1}\\n'.format(tmp, self.transform.__repr__().replace('\\n', '\\n' + ' ' * len(tmp)))\n",
    "        tmp = '    Target Transforms (if any): '\n",
    "        fmt_str += '{0}{1}'.format(tmp, self.target_transform.__repr__().replace('\\n', '\\n' + ' ' * len(tmp)))\n",
    "        return fmt_str"
   ]
  },
  {
   "cell_type": "code",
   "execution_count": 12,
   "id": "d798e738-4416-4ef2-b829-e2261f3414a5",
   "metadata": {},
   "outputs": [
    {
     "name": "stdout",
     "output_type": "stream",
     "text": [
      "loading annotations into memory...\n",
      "Done (t=0.04s)\n",
      "creating index...\n",
      "index created!\n"
     ]
    }
   ],
   "source": [
    "transforms = v2.Compose([\n",
    "    v2.ToTensor(),\n",
    "    v2.ToDtype(torch.float32),\n",
    "    v2.Normalize(mean=[0.485, 0.456, 0.406], std=[0.229, 0.224, 0.225]),\n",
    "])\n",
    "\n",
    "root_dir = \"C:\\\\Users\\\\tilof\\\\PycharmProjects\\\\DeepLearningProjects\\\\DETR\\\\data\\\\spine\"\n",
    "train_data_dir = f\"{root_dir}\\\\train2017\"\n",
    "train_annotation_file = f\"{root_dir}\\\\annotations\\\\instances_train2017.json\"\n",
    "train_dataset = CocoDetection(root=train_data_dir, annFile=train_annotation_file, transform=transforms)"
   ]
  },
  {
   "cell_type": "code",
   "execution_count": 13,
   "id": "a5613d82-f9a0-46af-bce3-ad0a7b07ac16",
   "metadata": {},
   "outputs": [],
   "source": [
    "image, annotation = train_dataset[2]"
   ]
  },
  {
   "cell_type": "code",
   "execution_count": 14,
   "id": "4daa8518-3cd6-4ee3-b398-fd0f50e8ada0",
   "metadata": {},
   "outputs": [
    {
     "name": "stderr",
     "output_type": "stream",
     "text": [
      "Clipping input data to the valid range for imshow with RGB data ([0..1] for floats or [0..255] for integers).\n"
     ]
    },
    {
     "data": {
      "text/plain": [
       "<matplotlib.image.AxesImage at 0x22c352650c0>"
      ]
     },
     "execution_count": 14,
     "metadata": {},
     "output_type": "execute_result"
    },
    {
     "data": {
      "image/png": "[encoded data removed]",
      "text/plain": [
       "<Figure size 640x480 with 1 Axes>"
      ]
     },
     "metadata": {},
     "output_type": "display_data"
    }
   ],
   "source": [
    "plt.imshow(image.detach().cpu().permute(1,2,0).numpy())"
   ]
  },
  {
   "cell_type": "code",
   "execution_count": 15,
   "id": "34b6a1af-5ac5-4b13-a1e4-336d0635589d",
   "metadata": {},
   "outputs": [
    {
     "data": {
      "text/plain": [
       "[{'id': 2,\n",
       "  'image_id': 2,\n",
       "  'category_id': 0,\n",
       "  'bbox': [255, 6, 37, 29],\n",
       "  'area': 1073,\n",
       "  'iscrowd': 0},\n",
       " {'id': 3,\n",
       "  'image_id': 2,\n",
       "  'category_id': 0,\n",
       "  'bbox': [279, 53, 15, 21],\n",
       "  'area': 315,\n",
       "  'iscrowd': 0},\n",
       " {'id': 4,\n",
       "  'image_id': 2,\n",
       "  'category_id': 0,\n",
       "  'bbox': [302, 3, 36, 26],\n",
       "  'area': 936,\n",
       "  'iscrowd': 0}]"
      ]
     },
     "execution_count": 15,
     "metadata": {},
     "output_type": "execute_result"
    }
   ],
   "source": [
    "annotation"
   ]
  },
  {
   "cell_type": "code",
   "execution_count": 16,
   "id": "e2cd5934-a0af-4f9e-81ed-251c69454f6e",
   "metadata": {},
   "outputs": [],
   "source": [
    "def collate_fn(data):\n",
    "    return data\n",
    "\n",
    "train_data_loader = torch.utils.data.DataLoader(train_dataset, batch_size=2, shuffle=True, collate_fn=collate_fn)"
   ]
  },
  {
   "cell_type": "code",
   "execution_count": 20,
   "id": "6ce63f52-57a4-4458-ba21-9ad4cc87a9c8",
   "metadata": {},
   "outputs": [],
   "source": [
    "image, annotation = next(iter(train_data_loader))[0]"
   ]
  },
  {
   "cell_type": "code",
   "execution_count": 21,
   "id": "8e7e75ec-4957-41be-8907-6eaccb41b470",
   "metadata": {},
   "outputs": [
    {
     "data": {
      "text/plain": [
       "[{'id': 4271,\n",
       "  'image_id': 691,\n",
       "  'category_id': 0,\n",
       "  'bbox': [257, 303, 13, 17],\n",
       "  'area': 221,\n",
       "  'iscrowd': 0},\n",
       " {'id': 4272,\n",
       "  'image_id': 691,\n",
       "  'category_id': 0,\n",
       "  'bbox': [277, 287, 17, 18],\n",
       "  'area': 306,\n",
       "  'iscrowd': 0}]"
      ]
     },
     "execution_count": 21,
     "metadata": {},
     "output_type": "execute_result"
    }
   ],
   "source": [
    "annotation"
   ]
  },
  {
   "cell_type": "code",
   "execution_count": 32,
   "id": "52337039-2e26-4ddb-bfd7-2a08b59cdf98",
   "metadata": {},
   "outputs": [
    {
     "data": {
      "text/plain": [
       "([[257, 303, 270, 320], [277, 287, 294, 305]], [0, 0])"
      ]
     },
     "execution_count": 32,
     "metadata": {},
     "output_type": "execute_result"
    }
   ],
   "source": [
    "bboxes = list(map(lambda x: [x['bbox'][0], x['bbox'][1], x['bbox'][0]+x['bbox'][2], x['bbox'][1]+x['bbox'][3]], annotation))\n",
    "labels = list(map(lambda x: x['category_id'], annotation))\n",
    "bboxes, labels"
   ]
  },
  {
   "cell_type": "code",
   "execution_count": null,
   "id": "44642a6b-1edd-4bc9-8d73-dfec66c11cc9",
   "metadata": {},
   "outputs": [],
   "source": []
  }
 ],
 "metadata": {
  "kernelspec": {
   "display_name": "Python 3 (ipykernel)",
   "language": "python",
   "name": "python3"
  },
  "language_info": {
   "codemirror_mode": {
    "name": "ipython",
    "version": 3
   },
   "file_extension": ".py",
   "mimetype": "text/x-python",
   "name": "python",
   "nbconvert_exporter": "python",
   "pygments_lexer": "ipython3",
   "version": "3.10.6"
  }
 },
 "nbformat": 4,
 "nbformat_minor": 5
}
