{
 "cells": [
  {
   "cell_type": "markdown",
   "id": "05e04e88-5eb4-48ef-8622-ce3cad7a4292",
   "metadata": {},
   "source": [
    "# Inference and Validation"
   ]
  },
  {
   "cell_type": "code",
   "execution_count": 75,
   "id": "b273989b-74f2-4bb4-bf4b-f0c2eba65883",
   "metadata": {},
   "outputs": [
    {
     "name": "stdout",
     "output_type": "stream",
     "text": [
      "The autoreload extension is already loaded. To reload it, use:\n",
      "  %reload_ext autoreload\n"
     ]
    }
   ],
   "source": [
    "import torch\n",
    "import torchvision\n",
    "from torchvision.transforms import v2\n",
    "from data import *\n",
    "from faster_rcnn import *\n",
    "from metrics import *\n",
    "\n",
    "%load_ext autoreload\n",
    "%autoreload 2"
   ]
  },
  {
   "cell_type": "code",
   "execution_count": 20,
   "id": "b3a53a04-8744-4944-8ff9-3aa6ec5121df",
   "metadata": {},
   "outputs": [
    {
     "name": "stdout",
     "output_type": "stream",
     "text": [
      "loading annotations into memory...\n",
      "Done (t=0.03s)\n",
      "creating index...\n",
      "index created!\n"
     ]
    }
   ],
   "source": [
    "root_dir = \"C:\\\\Users\\\\tilof\\\\PycharmProjects\\\\DeepLearningProjects\\\\DETR\\\\data\\\\spine\"\n",
    "val_data_dir = f\"{root_dir}\\\\train2017\"\n",
    "val_annotation_file = f\"{root_dir}\\\\annotations\\\\instances_train2017.json\"\n",
    "resume=None\n",
    "device = \"cuda\" if torch.cuda.is_available() else \"cpu\"\n",
    "\n",
    "num_classes = 1\n",
    "batch_size = 2\n",
    "\n",
    "transforms = v2.Compose([\n",
    "    v2.ToTensor(),\n",
    "    v2.ToDtype(torch.float32),\n",
    "    v2.Normalize(mean=[0.485, 0.456, 0.406], std=[0.229, 0.224, 0.225]),\n",
    "])\n",
    "\n",
    "val_dataset = build_coco_dataset(root=val_data_dir, annFile=val_annotation_file, transform=transforms)\n",
    "val_dataloader = build_dataloader(dataset=val_dataset, batch_size=batch_size, collate_fn=collate_fn_coco)"
   ]
  },
  {
   "cell_type": "code",
   "execution_count": 23,
   "id": "bb08827d-bf4a-4361-ba05-be6ef2fc682a",
   "metadata": {},
   "outputs": [
    {
     "data": {
      "text/plain": [
       "''"
      ]
     },
     "execution_count": 23,
     "metadata": {},
     "output_type": "execute_result"
    }
   ],
   "source": [
    "detector = FasterRCNNV2Detector(\n",
    "    num_classes=num_classes,\n",
    "    resume=resume,\n",
    "    device=device,\n",
    ")\n",
    "detector.model.eval()\n",
    "\"\""
   ]
  },
  {
   "cell_type": "code",
   "execution_count": 81,
   "id": "e7097bb6-471a-48db-9217-1bee408a6cff",
   "metadata": {},
   "outputs": [],
   "source": [
    "mAP50, mAP50_95 = compute_mAP_values(detector.model, dataloader=val_dataloader, n_batches_validation=2, device=device)"
   ]
  },
  {
   "cell_type": "code",
   "execution_count": 82,
   "id": "e1cfc8ef-e003-4db3-a842-a07cdaa913c2",
   "metadata": {},
   "outputs": [
    {
     "data": {
      "text/plain": [
       "(tensor(0.), tensor(0.))"
      ]
     },
     "execution_count": 82,
     "metadata": {},
     "output_type": "execute_result"
    }
   ],
   "source": [
    "mAP50, mAP50_95"
   ]
  },
  {
   "cell_type": "code",
   "execution_count": null,
   "id": "00a32ecc-8ffb-4079-9a8d-5c2c6a35dc02",
   "metadata": {},
   "outputs": [],
   "source": []
  }
 ],
 "metadata": {
  "kernelspec": {
   "display_name": "Python 3 (ipykernel)",
   "language": "python",
   "name": "python3"
  },
  "language_info": {
   "codemirror_mode": {
    "name": "ipython",
    "version": 3
   },
   "file_extension": ".py",
   "mimetype": "text/x-python",
   "name": "python",
   "nbconvert_exporter": "python",
   "pygments_lexer": "ipython3",
   "version": "3.10.6"
  }
 },
 "nbformat": 4,
 "nbformat_minor": 5
}
